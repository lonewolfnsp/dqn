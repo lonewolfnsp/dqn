{
 "cells": [
  {
   "attachments": {},
   "cell_type": "markdown",
   "metadata": {},
   "source": [
    "# Cart Pole solved with DQN using PyTorch"
   ]
  },
  {
   "attachments": {},
   "cell_type": "markdown",
   "metadata": {},
   "source": [
    "## install gym "
   ]
  },
  {
   "cell_type": "code",
   "execution_count": 1,
   "metadata": {},
   "outputs": [],
   "source": [
    "import utils \n",
    "from replaybuffer import ReplayBuffer\n",
    "import torch \n",
    "import gymnasium as gym\n",
    "import numpy as np \n",
    "import copy \n",
    "import matplotlib.pyplot as plt\n",
    "%matplotlib inline"
   ]
  },
  {
   "attachments": {},
   "cell_type": "markdown",
   "metadata": {},
   "source": [
    "## Hyperparameters And constants"
   ]
  },
  {
   "cell_type": "code",
   "execution_count": 2,
   "metadata": {},
   "outputs": [],
   "source": [
    "max_episodes= 5000\n",
    "max_steps_in_episode=1000\n",
    "learning_rate= 1e-3\n",
    "gamma=0.995\n",
    "max_replays=200000\n",
    "batch_size=64\n",
    "train_interval=3\n",
    "tau= 1e-3 # used for soft update of target network after training. takes a fraction of the model's trained weights\n",
    "\n",
    "layers=[64,64]\n",
    "MSE = torch.nn.MSELoss()\n",
    "device=torch.device('cuda' if torch.cuda.is_available() else 'cpu')\n",
    "memories=ReplayBuffer(max_replays, batch_size, device)"
   ]
  },
  {
   "attachments": {},
   "cell_type": "markdown",
   "metadata": {},
   "source": [
    "# Creating the environment"
   ]
  },
  {
   "cell_type": "code",
   "execution_count": 3,
   "metadata": {},
   "outputs": [
    {
     "name": "stdout",
     "output_type": "stream",
     "text": [
      "num_actions=2\n",
      " state_size=(4,) \n"
     ]
    },
    {
     "name": "stderr",
     "output_type": "stream",
     "text": [
      "c:\\Users\\kailo\\miniconda3\\envs\\torch\\lib\\site-packages\\gymnasium\\envs\\classic_control\\cartpole.py:215: UserWarning: \u001b[33mWARN: You are calling render method without specifying any render mode. You can specify the render_mode at initialization, e.g. gym.make(\"CartPole-v1\", render_mode=\"rgb_array\")\u001b[0m\n",
      "  gym.logger.warn(\n"
     ]
    }
   ],
   "source": [
    "env = gym.make(\"CartPole-v1\")\n",
    "\n",
    "state_size = env.observation_space.shape\n",
    "num_actions = env.action_space.n\n",
    "Actions=np.arange(num_actions)\n",
    "print(f'num_actions={num_actions}\\n state_size={state_size} ')\n",
    "env.reset()\n",
    "env.render()"
   ]
  },
  {
   "cell_type": "code",
   "execution_count": 4,
   "metadata": {},
   "outputs": [
    {
     "name": "stdout",
     "output_type": "stream",
     "text": [
      "state=[ 0.0447919   0.00592917 -0.03987714  0.03600601], next=[ 0.04491048 -0.18859892 -0.03915701  0.3158454 ], reward=1.0, done=False \n"
     ]
    }
   ],
   "source": [
    "state = env.reset()\n",
    "next, reward, done, _,_  = env.step(0)\n",
    "print(f'state={state[0] }, next={next}, reward={reward}, done={done} ')"
   ]
  },
  {
   "attachments": {},
   "cell_type": "markdown",
   "metadata": {},
   "source": [
    "### instantiating the deep Q networks"
   ]
  },
  {
   "cell_type": "code",
   "execution_count": 5,
   "metadata": {},
   "outputs": [
    {
     "name": "stdout",
     "output_type": "stream",
     "text": [
      "DQN(\n",
      "  (model): Sequential(\n",
      "    (0): Linear(in_features=4, out_features=64, bias=True)\n",
      "    (1): ReLU()\n",
      "    (2): Linear(in_features=64, out_features=64, bias=True)\n",
      "    (3): ReLU()\n",
      "    (4): Linear(in_features=64, out_features=2, bias=True)\n",
      "  )\n",
      ")\n"
     ]
    }
   ],
   "source": [
    "model=utils.DQN(state_size[0],  num_actions, layers)\n",
    "target=copy.deepcopy(model) # target is a clone of the Q network \n",
    "opt=torch.optim.Adam(model.parameters(), lr=learning_rate)\n",
    "target.eval() # target is not trained. Uses soft update to update its weights instead\n",
    "model.train()\n",
    "target.to(device)\n",
    "model.to(device)\n",
    "\n",
    "print(target)"
   ]
  },
  {
   "attachments": {},
   "cell_type": "markdown",
   "metadata": {},
   "source": [
    "## Exploration vs exploitation\n",
    "### When training starts, exploration is favoured over exploitation. $\\epsilon$ decays over training session to favour exploitation over exploration as model learns to take the right steps for each state."
   ]
  },
  {
   "cell_type": "code",
   "execution_count": 6,
   "metadata": {},
   "outputs": [],
   "source": [
    "epsilon=1.0 # starting epsilon\n",
    "decay=0.995 # decay factor per episode"
   ]
  },
  {
   "cell_type": "code",
   "execution_count": 7,
   "metadata": {},
   "outputs": [],
   "source": [
    "def getAction(dqnModel, epsilon, curState):\n",
    "    model.eval()\n",
    "    action=-1    \n",
    "    if np.random.uniform(0,1) < max(0.05, epsilon) :\n",
    "        action=np.random.choice(Actions) # randomly pick an action       \n",
    "    else:\n",
    "        action=utils.getQAction(dqnModel, state,device)\n",
    "    return action"
   ]
  },
  {
   "attachments": {},
   "cell_type": "markdown",
   "metadata": {},
   "source": [
    "## Train the Q network\n",
    "\n",
    "$$\n",
    "\\begin{equation}\n",
    "    y_j =\n",
    "    \\begin{cases}\n",
    "      R_j & \\text{if episode terminates at step  } j+1\\\\\n",
    "      R_j + \\gamma \\max_{a'}\\hat{Q}(s_{j+1},a') & \\text{otherwise}\\\\\n",
    "    \\end{cases}       \n",
    "\\end{equation}\n",
    "$$"
   ]
  },
  {
   "cell_type": "code",
   "execution_count": 9,
   "metadata": {},
   "outputs": [],
   "source": [
    "def trainDQN():\n",
    "    model.train()\n",
    "    states, actions, rewards, next_states, dones = memories.sample()\n",
    "\n",
    "    with torch.no_grad():\n",
    "        max_qsa=target(next_states)\n",
    "\n",
    "    max_qsa, _=torch.max(max_qsa, dim=1)\n",
    "    y_targets=rewards + gamma* max_qsa * (1. - dones)\n",
    "\n",
    "    qsa=model(states)    \n",
    "    vals=qsa.gather(1, actions.unsqueeze(1)).squeeze(1)\n",
    "    opt.zero_grad()\n",
    "    loss=MSE(y_targets, vals)\n",
    "    loss.backward()\n",
    "    opt.step()\n",
    "    # soft update the target network \n",
    "    utils.softupdate(target, model, tau)\n",
    "    "
   ]
  },
  {
   "attachments": {},
   "cell_type": "markdown",
   "metadata": {},
   "source": [
    "## Start collecting experiences and train the DQN"
   ]
  },
  {
   "cell_type": "code",
   "execution_count": 10,
   "metadata": {},
   "outputs": [
    {
     "name": "stdout",
     "output_type": "stream",
     "text": [
      " Episode:100 \t Average rewards= 18.03 \n",
      " Episode:200 \t Average rewards= 12.48 \n",
      " Episode:300 \t Average rewards= 10.77 \n",
      " Episode:400 \t Average rewards= 10.06 \n",
      " Episode:500 \t Average rewards= 10.8 \n",
      " Episode:600 \t Average rewards= 14.16 \n",
      " Episode:700 \t Average rewards= 63.7 \n",
      " Episode:800 \t Average rewards= 246.19 \n",
      " Episode:900 \t Average rewards= 210.63 \n",
      " Episode:1000 \t Average rewards= 197.32 \n",
      " Episode:1100 \t Average rewards= 153.05 \n",
      " Episode:1200 \t Average rewards= 164.51 \n",
      " Episode:1300 \t Average rewards= 160.27 \n",
      " Episode:1400 \t Average rewards= 166.66 \n",
      " Episode:1500 \t Average rewards= 172.14 \n",
      " Episode:1600 \t Average rewards= 174.15 \n",
      " Episode:1700 \t Average rewards= 192.35 \n",
      " Episode:1800 \t Average rewards= 258.17 \n",
      " Episode:1900 \t Average rewards= 367.29 \n",
      " Episode:2000 \t Average rewards= 800.14 \n",
      "\n",
      "\n",
      " training ends early \n"
     ]
    }
   ],
   "source": [
    "AverageRewards=[]\n",
    "Rewards=0.\n",
    "showRes=100\n",
    "totalRewards=0. \n",
    "cnt=0\n",
    "\n",
    "for ep in range (1, (max_episodes+1),1):\n",
    "    state=env.reset()\n",
    "    Rewards=0.\n",
    "    epsilon*=decay\n",
    "    for step in range(1, (max_steps_in_episode+1), 1):        \n",
    "        cnt+=1        \n",
    "        if step==1:\n",
    "            state=state[0]\n",
    "        action=getAction(model, epsilon, state)\n",
    "        next, reward, done, _,_ = env.step(action)        \n",
    "        # print(f'adding {state} , {action}, {reward},{next}, {done}')\n",
    "        memories.add(state , action, reward,next, done)                                          \n",
    "        \n",
    "        Rewards+=reward\n",
    "        if len(memories)> batch_size and cnt % train_interval==0:            \n",
    "            trainDQN()\n",
    "        state=next \n",
    "        if done or step ==max_steps_in_episode:\n",
    "            break        \n",
    "    print(f\"\\r episode: {ep} \\t reward: {Rewards}\", end=\"\")\n",
    "    totalRewards+=Rewards\n",
    "    if ep % showRes==0:                  \n",
    "        AverageRewards.append(totalRewards/showRes)     \n",
    "        print(f'\\r Episode:{ep} \\t Average rewards= {AverageRewards[-1] } ') \n",
    "        totalRewards=0.  \n",
    "        if AverageRewards[-1] > 500:\n",
    "            print('\\n\\n training ends early ')\n",
    "            break"
   ]
  },
  {
   "cell_type": "code",
   "execution_count": 11,
   "metadata": {},
   "outputs": [
    {
     "data": {
      "image/png": "[encoded data removed]",
      "text/plain": [
       "<Figure size 432x288 with 1 Axes>"
      ]
     },
     "metadata": {
      "needs_background": "light"
     },
     "output_type": "display_data"
    }
   ],
   "source": [
    "env.close()\n",
    "plt.plot(AverageRewards)\n",
    "plt.show()"
   ]
  },
  {
   "cell_type": "code",
   "execution_count": 12,
   "metadata": {},
   "outputs": [],
   "source": [
    "# now we show the env \n",
    "env = gym.make(\"CartPole-v1\", render_mode='human' )"
   ]
  },
  {
   "cell_type": "code",
   "execution_count": 14,
   "metadata": {},
   "outputs": [
    {
     "name": "stdout",
     "output_type": "stream",
     "text": [
      " rewards gaained: 332.00\n",
      "Terminated with rewards=332.00\n"
     ]
    },
    {
     "ename": "AssertionError",
     "evalue": "",
     "output_type": "error",
     "traceback": [
      "\u001b[0;31m---------------------------------------------------------------------------\u001b[0m",
      "\u001b[0;31mAssertionError\u001b[0m                            Traceback (most recent call last)",
      "\u001b[0;32m/tmp/ipykernel_6234/1718361065.py\u001b[0m in \u001b[0;36m<module>\u001b[0;34m\u001b[0m\n\u001b[1;32m      1\u001b[0m \u001b[0mutils\u001b[0m\u001b[0;34m.\u001b[0m\u001b[0mrunDQNAgent\u001b[0m\u001b[0;34m(\u001b[0m\u001b[0mmodel\u001b[0m\u001b[0;34m,\u001b[0m \u001b[0menv\u001b[0m\u001b[0;34m,\u001b[0m \u001b[0mdevice\u001b[0m\u001b[0;34m,\u001b[0m \u001b[0mfps\u001b[0m\u001b[0;34m=\u001b[0m\u001b[0;36m50\u001b[0m\u001b[0;34m)\u001b[0m\u001b[0;34m\u001b[0m\u001b[0;34m\u001b[0m\u001b[0m\n\u001b[0;32m----> 2\u001b[0;31m \u001b[0;32massert\u001b[0m\u001b[0;34m(\u001b[0m\u001b[0;32mFalse\u001b[0m\u001b[0;34m)\u001b[0m\u001b[0;34m\u001b[0m\u001b[0;34m\u001b[0m\u001b[0m\n\u001b[0m",
      "\u001b[0;31mAssertionError\u001b[0m: "
     ]
    }
   ],
   "source": [
    "utils.runDQNAgent(model, env, device, fps=50)\n",
    "assert(False)"
   ]
  },
  {
   "cell_type": "code",
   "execution_count": 15,
   "metadata": {},
   "outputs": [],
   "source": [
    "env.close()"
   ]
  },
  {
   "attachments": {},
   "cell_type": "markdown",
   "metadata": {},
   "source": [
    "## Save the trained model"
   ]
  },
  {
   "cell_type": "code",
   "execution_count": null,
   "metadata": {},
   "outputs": [],
   "source": [
    "utils.saveTrainedModel(model, 'cartpole')"
   ]
  },
  {
   "attachments": {},
   "cell_type": "markdown",
   "metadata": {},
   "source": []
  },
  {
   "attachments": {},
   "cell_type": "markdown",
   "metadata": {},
   "source": [
    "## load trained model to play"
   ]
  },
  {
   "cell_type": "code",
   "execution_count": 16,
   "metadata": {},
   "outputs": [
    {
     "name": "stdout",
     "output_type": "stream",
     "text": [
      "DQN(\n",
      "  (model): Sequential(\n",
      "    (0): Linear(in_features=4, out_features=64, bias=True)\n",
      "    (1): ReLU()\n",
      "    (2): Linear(in_features=64, out_features=64, bias=True)\n",
      "    (3): ReLU()\n",
      "    (4): Linear(in_features=64, out_features=2, bias=True)\n",
      "  )\n",
      ")\n"
     ]
    },
    {
     "data": {
      "text/plain": [
       "DQN(\n",
       "  (model): Sequential(\n",
       "    (0): Linear(in_features=4, out_features=64, bias=True)\n",
       "    (1): ReLU()\n",
       "    (2): Linear(in_features=64, out_features=64, bias=True)\n",
       "    (3): ReLU()\n",
       "    (4): Linear(in_features=64, out_features=2, bias=True)\n",
       "  )\n",
       ")"
      ]
     },
     "execution_count": 16,
     "metadata": {},
     "output_type": "execute_result"
    }
   ],
   "source": [
    "trainedModel= utils.DQN(state_size[0],  num_actions, layers)\n",
    "utils.loadModel(trainedModel, \"weights/cartpole\")\n",
    "print(trainedModel)\n",
    "trainedModel.to(device)"
   ]
  },
  {
   "attachments": {},
   "cell_type": "markdown",
   "metadata": {},
   "source": [
    "###  run the trained agent "
   ]
  },
  {
   "cell_type": "code",
   "execution_count": 17,
   "metadata": {},
   "outputs": [
    {
     "name": "stdout",
     "output_type": "stream",
     "text": [
      " rewards gaained: 1334.00"
     ]
    },
    {
     "ename": "KeyboardInterrupt",
     "evalue": "",
     "output_type": "error",
     "traceback": [
      "\u001b[0;31m---------------------------------------------------------------------------\u001b[0m",
      "\u001b[0;31mKeyboardInterrupt\u001b[0m                         Traceback (most recent call last)",
      "\u001b[0;32m/tmp/ipykernel_6234/2336077513.py\u001b[0m in \u001b[0;36m<module>\u001b[0;34m\u001b[0m\n\u001b[1;32m      1\u001b[0m \u001b[0menv\u001b[0m \u001b[0;34m=\u001b[0m \u001b[0mgym\u001b[0m\u001b[0;34m.\u001b[0m\u001b[0mmake\u001b[0m\u001b[0;34m(\u001b[0m\u001b[0;34m\"CartPole-v1\"\u001b[0m\u001b[0;34m,\u001b[0m \u001b[0mrender_mode\u001b[0m\u001b[0;34m=\u001b[0m\u001b[0;34m'human'\u001b[0m \u001b[0;34m)\u001b[0m\u001b[0;34m\u001b[0m\u001b[0;34m\u001b[0m\u001b[0m\n\u001b[0;32m----> 2\u001b[0;31m \u001b[0mutils\u001b[0m\u001b[0;34m.\u001b[0m\u001b[0mrunDQNAgent\u001b[0m\u001b[0;34m(\u001b[0m\u001b[0mtrainedModel\u001b[0m\u001b[0;34m,\u001b[0m \u001b[0menv\u001b[0m\u001b[0;34m,\u001b[0m \u001b[0mdevice\u001b[0m\u001b[0;34m,\u001b[0m \u001b[0mfps\u001b[0m\u001b[0;34m=\u001b[0m\u001b[0;36m50\u001b[0m\u001b[0;34m)\u001b[0m\u001b[0;34m\u001b[0m\u001b[0;34m\u001b[0m\u001b[0m\n\u001b[0m",
      "\u001b[0;32m/media/john/data1/git/dqn2/utils.py\u001b[0m in \u001b[0;36mrunDQNAgent\u001b[0;34m(dqnModel, env, device, max_step, fps)\u001b[0m\n\u001b[1;32m     57\u001b[0m         \u001b[0menv\u001b[0m\u001b[0;34m.\u001b[0m\u001b[0mrender\u001b[0m\u001b[0;34m(\u001b[0m\u001b[0;34m)\u001b[0m\u001b[0;34m\u001b[0m\u001b[0;34m\u001b[0m\u001b[0m\n\u001b[1;32m     58\u001b[0m         \u001b[0mprint\u001b[0m\u001b[0;34m(\u001b[0m\u001b[0;34mf'\\r rewards gaained: {rewards:.2f}'\u001b[0m\u001b[0;34m,\u001b[0m \u001b[0mend\u001b[0m\u001b[0;34m=\u001b[0m\u001b[0;34m\"\"\u001b[0m\u001b[0;34m)\u001b[0m\u001b[0;34m\u001b[0m\u001b[0;34m\u001b[0m\u001b[0m\n\u001b[0;32m---> 59\u001b[0;31m         \u001b[0mtime\u001b[0m\u001b[0;34m.\u001b[0m\u001b[0msleep\u001b[0m\u001b[0;34m(\u001b[0m\u001b[0;36m1.0\u001b[0m\u001b[0;34m/\u001b[0m\u001b[0mfps\u001b[0m\u001b[0;34m)\u001b[0m\u001b[0;34m\u001b[0m\u001b[0;34m\u001b[0m\u001b[0m\n\u001b[0m\u001b[1;32m     60\u001b[0m         \u001b[0mstep\u001b[0m\u001b[0;34m+=\u001b[0m\u001b[0;36m1\u001b[0m\u001b[0;34m\u001b[0m\u001b[0;34m\u001b[0m\u001b[0m\n\u001b[1;32m     61\u001b[0m         \u001b[0;32mif\u001b[0m \u001b[0mdone\u001b[0m \u001b[0;32mor\u001b[0m \u001b[0;34m(\u001b[0m\u001b[0mbreakout\u001b[0m \u001b[0;32mand\u001b[0m \u001b[0mstep\u001b[0m\u001b[0;34m==\u001b[0m \u001b[0mmax_step\u001b[0m\u001b[0;34m)\u001b[0m\u001b[0;34m:\u001b[0m\u001b[0;34m\u001b[0m\u001b[0;34m\u001b[0m\u001b[0m\n",
      "\u001b[0;31mKeyboardInterrupt\u001b[0m: "
     ]
    }
   ],
   "source": [
    "env = gym.make(\"CartPole-v1\", render_mode='human' )\n",
    "utils.runDQNAgent(trainedModel, env, device, fps=50)"
   ]
  },
  {
   "cell_type": "code",
   "execution_count": 18,
   "metadata": {},
   "outputs": [],
   "source": [
    "env.close()"
   ]
  }
 ],
 "metadata": {
  "kernelspec": {
   "display_name": "PyTorch 2",
   "language": "python",
   "name": "torch"
  },
  "language_info": {
   "codemirror_mode": {
    "name": "ipython",
    "version": 3
   },
   "file_extension": ".py",
   "mimetype": "text/x-python",
   "name": "python",
   "nbconvert_exporter": "python",
   "pygments_lexer": "ipython3",
   "version": "3.10.13"
  }
 },
 "nbformat": 4,
 "nbformat_minor": 2
}
