{
 "cells": [
  {
   "attachments": {},
   "cell_type": "markdown",
   "metadata": {},
   "source": [
    "# Mountain Car solved with DQN using PyTorch"
   ]
  },
  {
   "cell_type": "code",
   "execution_count": 1,
   "metadata": {},
   "outputs": [],
   "source": [
    "import utils \n",
    "from replaybuffer import ReplayBuffer\n",
    "import torch \n",
    "import gymnasium as gym \n",
    "import numpy as np \n",
    "import copy \n",
    "import matplotlib.pyplot as plt\n",
    "%matplotlib inline"
   ]
  },
  {
   "attachments": {},
   "cell_type": "markdown",
   "metadata": {},
   "source": [
    "## Hyperparameters And constants"
   ]
  },
  {
   "cell_type": "code",
   "execution_count": 2,
   "metadata": {},
   "outputs": [],
   "source": [
    "max_episodes= 5000\n",
    "max_steps_in_episode=200\n",
    "learning_rate= 2e-3\n",
    "gamma=0.995\n",
    "max_replays=100000\n",
    "batch_size=64\n",
    "train_interval=3\n",
    "tau= 1e-3 # used for soft update of target network after training. takes a fraction of the model's trained weights\n",
    "\n",
    "layers=[64,64]\n",
    "MSE = torch.nn.MSELoss()\n",
    "device=torch.device('cuda' if torch.cuda.is_available() else 'cpu')\n",
    "memories=ReplayBuffer(max_replays, batch_size, device)"
   ]
  },
  {
   "attachments": {},
   "cell_type": "markdown",
   "metadata": {},
   "source": [
    "# Creating the environment"
   ]
  },
  {
   "cell_type": "code",
   "execution_count": 3,
   "metadata": {},
   "outputs": [
    {
     "name": "stdout",
     "output_type": "stream",
     "text": [
      "num_actions=3\n",
      " state_size=(2,) \n"
     ]
    }
   ],
   "source": [
    "env = gym.make(\"MountainCar-v0\")\n",
    "\n",
    "state_size = env.observation_space.shape\n",
    "num_actions = env.action_space.n\n",
    "Actions=np.arange(num_actions)\n",
    "print(f'num_actions={num_actions}\\n state_size={state_size} ')"
   ]
  },
  {
   "attachments": {},
   "cell_type": "markdown",
   "metadata": {},
   "source": [
    "### instantiating the deep Q networks"
   ]
  },
  {
   "cell_type": "code",
   "execution_count": 4,
   "metadata": {},
   "outputs": [
    {
     "name": "stdout",
     "output_type": "stream",
     "text": [
      "DQN(\n",
      "  (model): Sequential(\n",
      "    (0): Linear(in_features=2, out_features=64, bias=True)\n",
      "    (1): ReLU()\n",
      "    (2): Linear(in_features=64, out_features=64, bias=True)\n",
      "    (3): ReLU()\n",
      "    (4): Linear(in_features=64, out_features=3, bias=True)\n",
      "  )\n",
      ")\n"
     ]
    }
   ],
   "source": [
    "model=utils.DQN(state_size[0],  num_actions, layers)\n",
    "target=copy.deepcopy(model) # target is a clone of the Q network \n",
    "opt=torch.optim.Adam(model.parameters(), lr=learning_rate)\n",
    "target.eval() # target is not trained. Uses soft update to update its weights instead\n",
    "model.train()\n",
    "target.to(device)\n",
    "model.to(device)\n",
    "\n",
    "print(target)"
   ]
  },
  {
   "attachments": {},
   "cell_type": "markdown",
   "metadata": {},
   "source": [
    "## Exploration vs exploitation\n",
    "### When training starts, exploration is favoured over exploitation. $\\epsilon$ decays over training session to favour exploitation over exploration as model learns to take the right steps for each state."
   ]
  },
  {
   "cell_type": "code",
   "execution_count": 5,
   "metadata": {},
   "outputs": [],
   "source": [
    "epsilon=1.0 # starting epsilon\n",
    "decay=0.995 # decay factor per episode"
   ]
  },
  {
   "cell_type": "code",
   "execution_count": 6,
   "metadata": {},
   "outputs": [],
   "source": [
    "def getAction(dqnModel, epsilon, curState):\n",
    "    model.eval()\n",
    "    action=-1    \n",
    "    if np.random.uniform(0,1) < max(0.05, epsilon) :\n",
    "        action=np.random.choice(Actions) # randomly pick an action       \n",
    "    else:\n",
    "        action=utils.getQAction(dqnModel, state,device)\n",
    "    return action"
   ]
  },
  {
   "attachments": {},
   "cell_type": "markdown",
   "metadata": {},
   "source": [
    "## Train the Q network\n",
    "\n",
    "$$\n",
    "\\begin{equation}\n",
    "    y_j =\n",
    "    \\begin{cases}\n",
    "      R_j & \\text{if episode terminates at step  } j+1\\\\\n",
    "      R_j + \\gamma \\max_{a'}\\hat{Q}(s_{j+1},a') & \\text{otherwise}\\\\\n",
    "    \\end{cases}       \n",
    "\\end{equation}\n",
    "$$"
   ]
  },
  {
   "cell_type": "code",
   "execution_count": 7,
   "metadata": {},
   "outputs": [],
   "source": [
    "def trainDQN():\n",
    "    model.train()\n",
    "    states, actions, rewards, next_states, dones=memories.sample()\n",
    "\n",
    "    with torch.no_grad():\n",
    "        max_qsa=target(next_states)\n",
    "\n",
    "    max_qsa, _=torch.max(max_qsa, dim=1)\n",
    "    y_targets=rewards + gamma* max_qsa * (1. - dones)\n",
    "\n",
    "    qsa=model(states)    \n",
    "    vals=qsa.gather(1, actions.unsqueeze(1)).squeeze(1)\n",
    "    opt.zero_grad()\n",
    "    loss=MSE(y_targets, vals)\n",
    "    loss.backward()\n",
    "    opt.step()\n",
    "    # soft update the target network \n",
    "    utils.softupdate(target, model, tau)\n",
    "    "
   ]
  },
  {
   "attachments": {},
   "cell_type": "markdown",
   "metadata": {},
   "source": [
    "## Start collecting experiences and train the DQN"
   ]
  },
  {
   "cell_type": "code",
   "execution_count": 8,
   "metadata": {},
   "outputs": [
    {
     "name": "stdout",
     "output_type": "stream",
     "text": [
      " Episode:100 \t Average rewards= -200.00 \n",
      " Episode:200 \t Average rewards= -200.00 \n",
      " Episode:300 \t Average rewards= -200.00 \n",
      " Episode:400 \t Average rewards= -200.00 \n",
      " Episode:500 \t Average rewards= -200.00 \n",
      " Episode:600 \t Average rewards= -198.97 \n",
      " Episode:700 \t Average rewards= -199.77 \n",
      " Episode:800 \t Average rewards= -200.00 \n",
      " Episode:900 \t Average rewards= -200.00 \n",
      " Episode:1000 \t Average rewards= -199.27 \n",
      " Episode:1100 \t Average rewards= -197.05 \n",
      " Episode:1200 \t Average rewards= -182.55 \n",
      " Episode:1300 \t Average rewards= -161.72 \n",
      " Episode:1400 \t Average rewards= -163.58 \n",
      " Episode:1500 \t Average rewards= -161.17 \n",
      " Episode:1600 \t Average rewards= -161.39 \n",
      " Episode:1700 \t Average rewards= -170.53 \n",
      " Episode:1800 \t Average rewards= -173.68 \n",
      " Episode:1900 \t Average rewards= -179.70 \n",
      " Episode:2000 \t Average rewards= -171.16 \n",
      " Episode:2100 \t Average rewards= -167.98 \n",
      " Episode:2200 \t Average rewards= -154.35 \n",
      " Episode:2300 \t Average rewards= -146.00 \n",
      " Episode:2400 \t Average rewards= -151.99 \n",
      " Episode:2500 \t Average rewards= -150.34 \n",
      " Episode:2600 \t Average rewards= -154.74 \n",
      " Episode:2700 \t Average rewards= -144.02 \n",
      " Episode:2800 \t Average rewards= -147.73 \n",
      " Episode:2900 \t Average rewards= -145.28 \n",
      " Episode:3000 \t Average rewards= -140.91 \n",
      " Episode:3100 \t Average rewards= -131.75 \n",
      " Episode:3200 \t Average rewards= -120.93 \n",
      " Episode:3300 \t Average rewards= -117.96 \n",
      "\n",
      "\n",
      " training ends early \n"
     ]
    }
   ],
   "source": [
    "AverageRewards=[]\n",
    "Rewards=0.\n",
    "showRes=100\n",
    "totalRewards=0. \n",
    "cnt=0\n",
    "\n",
    "for ep in range (1, (max_episodes+1),1):\n",
    "    state=env.reset()\n",
    "    state=state[0]\n",
    "    Rewards=0.\n",
    "    epsilon*=decay\n",
    "    for step in range(1, (max_steps_in_episode+1), 1):        \n",
    "        cnt+=1\n",
    "        action=getAction(model, epsilon, state)\n",
    "        next, reward, done, _,_ = env.step(action)        \n",
    "        memories.add(state, action, reward,next, done)\n",
    "        Rewards+=reward\n",
    "        if len(memories)> batch_size and cnt % train_interval==0:            \n",
    "            trainDQN()\n",
    "        state=next \n",
    "        if done or step ==max_steps_in_episode:\n",
    "            break        \n",
    "    print(f\"\\r episode: {ep} \\t reward: {Rewards:.2f}\", end=\"\")\n",
    "    totalRewards+=Rewards\n",
    "    if ep % showRes==0:                  \n",
    "        AverageRewards.append(totalRewards/showRes)     \n",
    "        print(f'\\r Episode:{ep} \\t Average rewards= {AverageRewards[-1]:.2f} ') \n",
    "        totalRewards=0.  \n",
    "        if AverageRewards[-1] > -120:\n",
    "            print('\\n\\n training ends early ')\n",
    "            break"
   ]
  },
  {
   "cell_type": "code",
   "execution_count": 9,
   "metadata": {},
   "outputs": [
    {
     "data": {
      "image/png": "[encoded data removed]",
      "text/plain": [
       "<Figure size 640x480 with 1 Axes>"
      ]
     },
     "metadata": {},
     "output_type": "display_data"
    }
   ],
   "source": [
    "plt.plot(AverageRewards)\n",
    "plt.show()"
   ]
  },
  {
   "cell_type": "code",
   "execution_count": 14,
   "metadata": {},
   "outputs": [],
   "source": [
    "env.close()\n",
    "env = gym.make(\"MountainCar-v0\", render_mode='human' )"
   ]
  },
  {
   "cell_type": "code",
   "execution_count": 15,
   "metadata": {},
   "outputs": [
    {
     "name": "stdout",
     "output_type": "stream",
     "text": [
      " rewards gaained: -113.00\n",
      "Terminated with rewards=-113.00\n"
     ]
    }
   ],
   "source": [
    "utils.runDQNAgent(model, env, device, fps=25)\n",
    "# assert(False)"
   ]
  },
  {
   "cell_type": "code",
   "execution_count": 16,
   "metadata": {},
   "outputs": [],
   "source": [
    "env.close()"
   ]
  },
  {
   "attachments": {},
   "cell_type": "markdown",
   "metadata": {},
   "source": [
    "## Save the trained model"
   ]
  },
  {
   "cell_type": "code",
   "execution_count": null,
   "metadata": {},
   "outputs": [],
   "source": [
    "utils.saveTrainedModel(model, 'mountaincar')"
   ]
  },
  {
   "attachments": {},
   "cell_type": "markdown",
   "metadata": {},
   "source": []
  },
  {
   "attachments": {},
   "cell_type": "markdown",
   "metadata": {},
   "source": [
    "## load trained model to play"
   ]
  },
  {
   "cell_type": "code",
   "execution_count": null,
   "metadata": {},
   "outputs": [],
   "source": [
    "trainedModel= utils.DQN(state_size[0],  num_actions, layers)\n",
    "utils.loadModel(trainedModel, \"weights/mountaincar\")\n",
    "print(trainedModel)\n",
    "trainedModel.to(device)"
   ]
  },
  {
   "attachments": {},
   "cell_type": "markdown",
   "metadata": {},
   "source": [
    "###  run the trained agent "
   ]
  },
  {
   "cell_type": "code",
   "execution_count": null,
   "metadata": {},
   "outputs": [],
   "source": [
    "env = gym.make(\"MountainCar-v0\", render_mode='human')"
   ]
  },
  {
   "cell_type": "code",
   "execution_count": null,
   "metadata": {},
   "outputs": [],
   "source": [
    "utils.runDQNAgent(trainedModel, env, device, fps=25)"
   ]
  },
  {
   "cell_type": "code",
   "execution_count": null,
   "metadata": {},
   "outputs": [],
   "source": [
    "env.close()"
   ]
  }
 ],
 "metadata": {
  "kernelspec": {
   "display_name": "PyTorch 2",
   "language": "python",
   "name": "torch"
  },
  "language_info": {
   "codemirror_mode": {
    "name": "ipython",
    "version": 3
   },
   "file_extension": ".py",
   "mimetype": "text/x-python",
   "name": "python",
   "nbconvert_exporter": "python",
   "pygments_lexer": "ipython3",
   "version": "3.10.13"
  }
 },
 "nbformat": 4,
 "nbformat_minor": 2
}
